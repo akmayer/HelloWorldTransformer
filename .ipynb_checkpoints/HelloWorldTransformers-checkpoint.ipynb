{
 "cells": [
  {
   "cell_type": "code",
   "execution_count": 54,
   "id": "91653a4f-76ca-49c6-9a5b-1543ad489da7",
   "metadata": {},
   "outputs": [],
   "source": [
    "import torch\n",
    "import torch.nn as nn\n",
    "import torch.nn.functional as F\n",
    "import numpy as np\n",
    "import einx\n",
    "import random\n",
    "from torch.utils.data import Dataset, DataLoader\n",
    "\n",
    "def genList(listSize):\n",
    "        return [random.random() for x in range(listSize)]\n",
    "\n",
    "def genAnswerKey(inputList):\n",
    "    answerKeyList = []\n",
    "    for val in inputList:\n",
    "        numLessThanVal = 0\n",
    "        for otherVal in inputList:\n",
    "            if otherVal < val:\n",
    "                numLessThanVal += 1\n",
    "        answerKeyList.append(numLessThanVal)\n",
    "    return answerKeyList\n",
    "\n",
    "\n",
    "class ListDataset(Dataset):\n",
    "    def __init__(self, listSize, datasetSize):\n",
    "        self.datasetSize = datasetSize\n",
    "        self.listSize = listSize\n",
    "        self.allLists = [genList(self.listSize) for idx in range(self.datasetSize)]\n",
    "        self.allAnswerKeys = [genAnswerKey(inputList) for inputList in self.allLists]\n",
    "\n",
    "    def __len__(self):\n",
    "        return self.datasetSize\n",
    "\n",
    "    def __getitem__(self, idx):\n",
    "        return torch.tensor(self.allLists[idx]).float(), torch.tensor(self.allAnswerKeys[idx])\n",
    "\n",
    "listDataset = ListDataset(3, 1000)\n",
    "trainLoader = DataLoader(listDataset, batch_size=1, shuffle=True)\n",
    "sampleInputTensor = next(iter(trainLoader))[0]"
   ]
  },
  {
   "cell_type": "code",
   "execution_count": 61,
   "id": "18ca529a-8981-4463-9f80-12a2ab9d8683",
   "metadata": {},
   "outputs": [
    {
     "data": {
      "text/plain": [
       "torch.Size([1, 3, 2])"
      ]
     },
     "execution_count": 61,
     "metadata": {},
     "output_type": "execute_result"
    }
   ],
   "source": [
    "\n",
    "# Transform a (B, L) list to a (B, L, d_emb)\n",
    "class Stem(nn.Module):\n",
    "    def __init__(self, embeddingDim):\n",
    "        super().__init__()\n",
    "        self.linearToEmbDim = nn.Linear(1, embeddingDim)\n",
    "        self.gelu = nn.GELU()\n",
    "        \n",
    "\n",
    "    # X expected to be a (B, L) list\n",
    "    def forward(self, x):\n",
    "        x = einx.rearrange(\"... -> ... 1\", sampleInputTensor)\n",
    "        x = self.linearToEmbDim(x)\n",
    "        x = self.gelu(x)\n",
    "        return x\n",
    "\n",
    "\n",
    "stem = Stem(2)\n",
    "stem(sampleInputTensor).shape\n",
    "\n"
   ]
  },
  {
   "cell_type": "code",
   "execution_count": 127,
   "id": "84f01fad-edec-4e58-9457-0e253a7e4652",
   "metadata": {},
   "outputs": [
    {
     "name": "stdout",
     "output_type": "stream",
     "text": [
      "tensor([[[0., 1., 1.],\n",
      "         [1., 0., 1.],\n",
      "         [1., 1., 2.]]])\n",
      "tensor([[[0.2327, 0.3837, 0.3837],\n",
      "         [0.3837, 0.2327, 0.3837],\n",
      "         [0.2741, 0.2741, 0.4519]]])\n"
     ]
    }
   ],
   "source": [
    "keyDim = 2\n",
    "valueDim = 3\n",
    "\n",
    "sampleQuery = torch.tensor([\n",
    "    [\n",
    "        [0., 1],\n",
    "        [1, 0],\n",
    "        [1, 1]\n",
    "    ]\n",
    "])\n",
    "\n",
    "sampleKey = torch.tensor([\n",
    "    [\n",
    "        [1., 0],\n",
    "        [0, 1],\n",
    "        [1, 1]\n",
    "    ]\n",
    "])\n",
    "\n",
    "\n",
    "# Perform attention from all queries to all keys\n",
    "dotProd = einx.dot(\"... q [d], ... k [d] -> ... q k\", sampleQuery, sampleKey)\n",
    "print(dotProd)\n",
    "\n",
    "softMaxPerQuery = einx.softmax(\"b q [k]\", dotProd / keyDim)\n",
    "print(softMaxPerQuery)"
   ]
  },
  {
   "cell_type": "code",
   "execution_count": 128,
   "id": "188c5b28-2c23-4011-a517-924efde68fcd",
   "metadata": {},
   "outputs": [
    {
     "ename": "SolveExpansionException",
     "evalue": "Failed to solve for the number of axes in the expressions.\nEquations:\n    b q (h c) = 1 1 3 2\n    b k (h c) = 1 1 3 2\n    h = 1\nReason: Expansion '(3,)' of expression 'b q (h c)' does not match expansion '(4,)' of expression '1 1 3 2'",
     "output_type": "error",
     "traceback": [
      "\u001b[1;31m---------------------------------------------------------------------------\u001b[0m",
      "\u001b[1;31mSolveExpansionException\u001b[0m                   Traceback (most recent call last)",
      "Cell \u001b[1;32mIn[128], line 16\u001b[0m\n\u001b[0;32m      1\u001b[0m q \u001b[38;5;241m=\u001b[39m torch\u001b[38;5;241m.\u001b[39mtensor([[\n\u001b[0;32m      2\u001b[0m     [\n\u001b[0;32m      3\u001b[0m         [\u001b[38;5;241m0.\u001b[39m, \u001b[38;5;241m1\u001b[39m],\n\u001b[1;32m   (...)\u001b[0m\n\u001b[0;32m      6\u001b[0m     ]\n\u001b[0;32m      7\u001b[0m ]])\n\u001b[0;32m      9\u001b[0m k \u001b[38;5;241m=\u001b[39m torch\u001b[38;5;241m.\u001b[39mtensor([[\n\u001b[0;32m     10\u001b[0m     [\n\u001b[0;32m     11\u001b[0m         [\u001b[38;5;241m1.\u001b[39m, \u001b[38;5;241m0\u001b[39m],\n\u001b[1;32m   (...)\u001b[0m\n\u001b[0;32m     14\u001b[0m     ]\n\u001b[0;32m     15\u001b[0m ]])\n\u001b[1;32m---> 16\u001b[0m a \u001b[38;5;241m=\u001b[39m \u001b[43meinx\u001b[49m\u001b[38;5;241;43m.\u001b[39;49m\u001b[43mdot\u001b[49m\u001b[43m(\u001b[49m\u001b[38;5;124;43m\"\u001b[39;49m\u001b[38;5;124;43mb q (h c), b k (h c) -> b q k h\u001b[39;49m\u001b[38;5;124;43m\"\u001b[39;49m\u001b[43m,\u001b[49m\u001b[43m \u001b[49m\u001b[43mq\u001b[49m\u001b[43m,\u001b[49m\u001b[43m \u001b[49m\u001b[43mk\u001b[49m\u001b[43m,\u001b[49m\u001b[43m \u001b[49m\u001b[43mh\u001b[49m\u001b[38;5;241;43m=\u001b[39;49m\u001b[38;5;241;43m1\u001b[39;49m\u001b[43m)\u001b[49m\n",
      "File \u001b[1;32m~\\AppData\\Local\\Programs\\Python\\Python311\\Lib\\site-packages\\einx\\traceback_util.py:71\u001b[0m, in \u001b[0;36mfilter.<locals>.func_with_reraise\u001b[1;34m(*args, **kwargs)\u001b[0m\n\u001b[0;32m     69\u001b[0m \u001b[38;5;28;01mexcept\u001b[39;00m \u001b[38;5;167;01mException\u001b[39;00m \u001b[38;5;28;01mas\u001b[39;00m e:\n\u001b[0;32m     70\u001b[0m     tb \u001b[38;5;241m=\u001b[39m _filter_tb(e\u001b[38;5;241m.\u001b[39m__traceback__)\n\u001b[1;32m---> 71\u001b[0m     \u001b[38;5;28;01mraise\u001b[39;00m e\u001b[38;5;241m.\u001b[39mwith_traceback(tb) \u001b[38;5;28;01mfrom\u001b[39;00m \u001b[38;5;28;01mNone\u001b[39;00m\n\u001b[0;32m     72\u001b[0m \u001b[38;5;28;01mfinally\u001b[39;00m:\n\u001b[0;32m     73\u001b[0m     \u001b[38;5;28;01mdel\u001b[39;00m tb\n",
      "\u001b[1;31mSolveExpansionException\u001b[0m: Failed to solve for the number of axes in the expressions.\nEquations:\n    b q (h c) = 1 1 3 2\n    b k (h c) = 1 1 3 2\n    h = 1\nReason: Expansion '(3,)' of expression 'b q (h c)' does not match expansion '(4,)' of expression '1 1 3 2'"
     ]
    }
   ],
   "source": [
    "q = torch.tensor([\n",
    "    [\n",
    "        [[0., 1]],\n",
    "        [[1, 0]],\n",
    "        [[1, 1]]\n",
    "    ]\n",
    "])\n",
    "\n",
    "k = torch.tensor([\n",
    "    [\n",
    "        [[1., 0]],\n",
    "        [[0, 1]],\n",
    "        [[1, 1]]\n",
    "    ]\n",
    "])\n",
    "a = einx.dot(\"b q (h c), b k (h c) -> b q k h\", q, k, h=8)"
   ]
  }
 ],
 "metadata": {
  "kernelspec": {
   "display_name": "Python 3 (ipykernel)",
   "language": "python",
   "name": "python3"
  },
  "language_info": {
   "codemirror_mode": {
    "name": "ipython",
    "version": 3
   },
   "file_extension": ".py",
   "mimetype": "text/x-python",
   "name": "python",
   "nbconvert_exporter": "python",
   "pygments_lexer": "ipython3",
   "version": "3.11.9"
  }
 },
 "nbformat": 4,
 "nbformat_minor": 5
}
